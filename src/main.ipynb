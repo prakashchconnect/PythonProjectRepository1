{
 "cells": [
  {
   "cell_type": "code",
   "execution_count": 12,
   "id": "f12c3249-cb63-4012-9b81-3b48ba43ccdc",
   "metadata": {
    "tags": []
   },
   "outputs": [
    {
     "name": "stdout",
     "output_type": "stream",
     "text": [
      "start of Customer1:init\n",
      "start of Customer2:init\n",
      "start of Customer1:display_customer\n",
      "start of Customer2:display_customer\n"
     ]
    }
   ],
   "source": [
    "from Customer import Customer1, Customer2\n",
    "\n",
    "customer1 = Customer1()\n",
    "customer2 = Customer2()\n",
    "\n",
    "customer1.display_customer1()\n",
    "customer2.display_customer2()"
   ]
  }
 ],
 "metadata": {
  "kernelspec": {
   "display_name": "Python 3 (ipykernel)",
   "language": "python",
   "name": "python3"
  },
  "language_info": {
   "codemirror_mode": {
    "name": "ipython",
    "version": 3
   },
   "file_extension": ".py",
   "mimetype": "text/x-python",
   "name": "python",
   "nbconvert_exporter": "python",
   "pygments_lexer": "ipython3",
   "version": "3.11.7"
  }
 },
 "nbformat": 4,
 "nbformat_minor": 5
}
